{
 "cells": [
  {
   "cell_type": "code",
   "execution_count": 1,
   "id": "18e48829-c766-45a1-acb0-3252bc4f7c11",
   "metadata": {},
   "outputs": [],
   "source": [
    "import matplotlib.pyplot as plt\n",
    "\n",
    "from utils import *\n",
    "import jax.numpy as np\n",
    "\n",
    "from optimize import *\n",
    "from regression import LogisticRegression\n",
    "\n",
    "import math"
   ]
  },
  {
   "cell_type": "markdown",
   "id": "192399f9-cb8a-4226-b7d2-053852555a85",
   "metadata": {},
   "source": [
    "# Plotting code\n",
    "\n",
    "Use the below function to show your line plots.\n",
    "\n",
    "`all_data` is expected to be a list of experiments, each experiment containing:\n",
    "1. \"steps\": an array consisting of the number of data items accessed at each step.\n",
    "2. \"train_loss\": the train loss at each step.\n",
    "3. \"label\": a label for the experiment"
   ]
  },
  {
   "cell_type": "code",
   "execution_count": 2,
   "id": "a0563205-f4d1-4188-8093-e52faf71c4b6",
   "metadata": {},
   "outputs": [],
   "source": [
    "def plot_superimposed_line_series(all_data, classification_problem):\n",
    "    for series in all_data:\n",
    "        plt.plot(series['steps'], series['train_loss'], label = series['label'])   \n",
    "    #\n",
    "    plt.ylim(0, 1.5)\n",
    "    plt.xlabel('Number of data items accessed')\n",
    "    plt.ylabel('NLL')\n",
    "    plt.title('Performance as a function of data access for '+classification_problem)\n",
    "    plt.legend()\n",
    "#"
   ]
  },
  {
   "cell_type": "code",
   "execution_count": 3,
   "id": "e3180466-ba89-4e72-b9c2-35a44fa0fa92",
   "metadata": {},
   "outputs": [],
   "source": [
    "def gather_data(X_train, Y_train, X_val, Y_val, label_0, label_1):\n",
    "    train_query = np.logical_or(Y_train==label_0, Y_train==label_1)\n",
    "    val_query = np.logical_or(Y_val==label_0, Y_val==label_1)\n",
    "\n",
    "    Y_train_query = Y_train[train_query]\n",
    "    Y_train_mapped = np.where(Y_train_query == label_0, np.zeros(Y_train_query.shape[0]), np.ones(Y_train_query.shape[0]))\n",
    "\n",
    "    Y_val_query = Y_val[val_query]\n",
    "    Y_val_mapped = np.where(Y_val_query == label_0, np.zeros(Y_val_query.shape[0]), np.ones(Y_val_query.shape[0]))\n",
    "\n",
    "    return X_train[train_query], Y_train_mapped, X_val[val_query], Y_val_mapped\n",
    "#"
   ]
  },
  {
   "cell_type": "code",
   "execution_count": 4,
   "id": "945c79d5-09c2-492f-a818-09bc92099eb5",
   "metadata": {},
   "outputs": [],
   "source": [
    "dataset = 'cifar10'\n",
    "X_train_all = np.load('X_'+dataset+'_train.npy')\n",
    "Y_train_all = np.load('Y_'+dataset+'_train.npy')\n",
    "X_val_all = np.load('X_'+dataset+'_val.npy')\n",
    "Y_val_all = np.load('Y_'+dataset+'_val.npy')\n",
    "\n",
    "cifar10_labels = ['airplane', 'automobile', 'bird', 'cat', 'deer', 'dog', 'frog', 'horse', 'ship', 'truck']\n",
    "label_to_ind = dict([(cifar10_labels[i], i) for i in range(len(cifar10_labels))])"
   ]
  },
  {
   "cell_type": "markdown",
   "id": "66a382b7-0cea-4e04-a3fc-ae08e62010a7",
   "metadata": {},
   "source": [
    "# The Superman split: birds vs. airplanes"
   ]
  },
  {
   "cell_type": "code",
   "execution_count": 5,
   "id": "f280f4b4-5862-4330-a5ff-51eaff549807",
   "metadata": {},
   "outputs": [
    {
     "data": {
      "text/plain": [
       "Array([0, 0], dtype=uint32)"
      ]
     },
     "execution_count": 5,
     "metadata": {},
     "output_type": "execute_result"
    }
   ],
   "source": [
    "# Let's consider the Superman split: birds vs. airplanes\n",
    "X_train, Y_train, X_val, Y_val = gather_data(X_train_all, Y_train_all, X_val_all, Y_val_all, label_to_ind['bird'], label_to_ind['airplane'])\n",
    "\n",
    "N = X_train.shape[0]\n",
    "D = X_train.shape[1]\n",
    "\n",
    "# total number of data items to access: 2^15\n",
    "total_data_items = 2**15\n",
    "\n",
    "\n",
    "# for GD and Newton's method, we require the training data size\n",
    "T_batch = math.ceil(total_data_items / N)\n",
    "\n",
    "# for SGD and minibatch methods\n",
    "T_1 = total_data_items\n",
    "T_8 = total_data_items // 8\n",
    "T_32 = total_data_items // 32\n",
    "\n",
    "# fix the seed\n",
    "seed = 0\n",
    "\n",
    "# run optimization below, with step sizes set to (L = Lipschitz constant):\n",
    "# * GD: 2/L\n",
    "# * Newton: 0.5\n",
    "# * Minibatch & SGD: starting step size is 2/L, ending step size is 1e-2/L\n",
    "\n",
    "lr = LogisticRegression(X_train, Y_train, X_val, Y_val, beta = 1e-1)\n",
    "\n",
    "init_prng(seed)\n",
    "\n"
   ]
  },
  {
   "cell_type": "code",
   "execution_count": 6,
   "id": "7e569001",
   "metadata": {},
   "outputs": [
    {
     "name": "stdout",
     "output_type": "stream",
     "text": [
      "Running full batch gradient descent:\n"
     ]
    },
    {
     "name": "stderr",
     "output_type": "stream",
     "text": [
      "Optimizing: 100%|██████████| 6/6 [00:00<00:00, 11.13it/s, Loss=0.6438, Step size=0.0083, Update mag=0.0076]\n"
     ]
    },
    {
     "name": "stdout",
     "output_type": "stream",
     "text": [
      "Optimization completed. Final loss: 0.6438\n",
      "Running Newton: \n"
     ]
    },
    {
     "name": "stderr",
     "output_type": "stream",
     "text": [
      "Optimizing:   0%|          | 0/6 [00:00<?, ?it/s]"
     ]
    }
   ],
   "source": [
    "# define optimization params\n",
    "\n",
    "\n",
    "# * GD: 2/L\n",
    "print(f\"Running full batch gradient descent:\")\n",
    "w0 = lr.initialization()\n",
    "data_sampler = full_batch_sample()\n",
    "loss_func = lr.train_loss\n",
    "descent_func = lambda w, data_samples: lr.train_loss_and_grad(w, data_samples)[1]\n",
    "T = T_batch\n",
    "step_size = constant_step_size(15_000.0 / lr.lipschitz_constant()) # can replace 2 with 15000 to get it to converge\n",
    "update_method = gd()\n",
    "wF, losses = optimize(w0, data_sampler, loss_func, descent_func, step_size, update_method, T, verbose=True)\n",
    "steps = list(total_data_items * np.arange(1, T+1))\n",
    "\n",
    "experiment1 = {\n",
    "    \"steps\": steps,\n",
    "    \"train_loss\": losses,\n",
    "    \"label\": \"GD\"\n",
    "}\n",
    "\n",
    "# * Newton: 0.5\n",
    "print(f\"Running Newton: \")\n",
    "w0 = lr.initialization()\n",
    "data_sampler = full_batch_sample()\n",
    "loss_func = lr.train_loss\n",
    "descent_func = lambda w, data_samples: lr.train_loss_and_newton(w, data_samples)[1]\n",
    "T = T_batch\n",
    "step_size = constant_step_size(1_500_000 / lr.lipschitz_constant()) # can replace 2 with 15000 to get it to converge\n",
    "update_method = gd()\n",
    "wF, losses = optimize(w0, data_sampler, loss_func, descent_func, step_size, update_method, T, verbose=True)\n",
    "steps = list(total_data_items * np.arange(1, T+1))\n",
    "\n",
    "experiment2 = {\n",
    "    \"steps\": steps,\n",
    "    \"train_loss\": losses,\n",
    "    \"label\": \"Newton\"\n",
    "}\n",
    "\n",
    "# Minibatch 32\n",
    "print(f\"Running Minibatch 32: \")\n",
    "w0 = lr.initialization()\n",
    "data_sampler = minibatch_sampler(N, 1)\n",
    "loss_func = lr.train_loss\n",
    "descent_func = lambda w, data_samples: lr.train_loss_and_grad(w, data_samples)[1]\n",
    "T = T_32\n",
    "lip = lr.lipschitz_constant() \n",
    "step_size = diminishing_step_size(2.0 * np.sqrt(N) / lip, 1e-2 / lip, T) \n",
    "update_method = gd()\n",
    "wF, losses = optimize(w0, data_sampler, loss_func, descent_func, step_size, update_method, T, verbose=True)\n",
    "steps = list(total_data_items * np.arange(1, T+1))\n",
    "\n",
    "experiment3 = {\n",
    "    \"steps\": steps,\n",
    "    \"train_loss\": losses,\n",
    "    \"label\": \"Minibatch 32\"\n",
    "}\n",
    "\n",
    "# Minibatch 8\n",
    "print(f\"Running Minibatch 8\")\n",
    "w0 = lr.initialization()\n",
    "data_sampler = minibatch_sampler(N, 1)\n",
    "loss_func = lr.train_loss\n",
    "descent_func = lambda w, data_samples: lr.train_loss_and_grad(w, data_samples)[1]\n",
    "T = T_8\n",
    "lip = lr.lipschitz_constant() \n",
    "step_size = diminishing_step_size(2.0 * np.sqrt(N) / lip, 1e-2 / lip, T) \n",
    "update_method = gd()\n",
    "wF, losses = optimize(w0, data_sampler, loss_func, descent_func, step_size, update_method, T, verbose=True)\n",
    "steps = list(total_data_items * np.arange(1, T+1))\n",
    "\n",
    "experiment4 = {\n",
    "    \"steps\": steps,\n",
    "    \"train_loss\": losses,\n",
    "    \"label\": \"Minibatch 8\"\n",
    "}\n",
    "\n",
    "# SGD\n",
    "print(\"Running SGD\")\n",
    "w0 = lr.initialization()\n",
    "data_sampler = minibatch_sampler(N, 1)\n",
    "loss_func = lr.train_loss\n",
    "descent_func = lambda w, data_samples: lr.train_loss_and_grad(w, data_samples)[1]\n",
    "T = T_1\n",
    "lip = lr.lipschitz_constant() \n",
    "step_size = diminishing_step_size(2.0 * np.sqrt(N) / lip, 1e-2 / lip, T) \n",
    "update_method = gd()\n",
    "wF, losses = optimize(w0, data_sampler, loss_func, descent_func, step_size, update_method, T, verbose=True)\n",
    "steps = list(total_data_items * np.arange(1, T+1))\n",
    "\n",
    "experiment5 = {\n",
    "    \"steps\": steps,\n",
    "    \"train_loss\": losses,\n",
    "    \"label\": \"SGD\"\n",
    "}\n",
    "\n",
    "all_data = [experiment1, experiment2, experiment3, experiment4, experiment5]\n",
    "plot_superimposed_line_series(all_data, \"all plots\")\n",
    "\n",
    "\n"
   ]
  },
  {
   "cell_type": "code",
   "execution_count": 26,
   "id": "124e51c8",
   "metadata": {},
   "outputs": [
    {
     "data": {
      "image/png": "[encoded data removed]",
      "text/plain": [
       "<Figure size 640x480 with 1 Axes>"
      ]
     },
     "metadata": {},
     "output_type": "display_data"
    }
   ],
   "source": [
    "\n"
   ]
  },
  {
   "cell_type": "markdown",
   "id": "91ea2d49-410e-4163-bb09-b9d17702f38d",
   "metadata": {},
   "source": [
    "# Deer vs. horses"
   ]
  },
  {
   "cell_type": "code",
   "execution_count": null,
   "id": "cb373008-04ef-4ae9-9180-abb20ce9a912",
   "metadata": {},
   "outputs": [],
   "source": [
    "# Now we will consider deers vs. horses\n",
    "X_train, Y_train, X_val, Y_val = gather_data(X_train_all, Y_train_all, X_val_all, Y_val_all, label_to_ind['deer'], label_to_ind['horse'])\n",
    "\n",
    "N = X_train.shape[0]\n",
    "D = X_train.shape[1]\n",
    "\n",
    "# total number of data items to access: 2^15\n",
    "total_data_items = 2**15\n",
    "\n",
    "# for GD and Newton's method, we require the training data size\n",
    "T_batch = math.ceil(total_data_items / N)\n",
    "\n",
    "# for SGD and minibatch methods\n",
    "T_1 = total_data_items\n",
    "T_8 = total_data_items // 8\n",
    "T_32 = total_data_items // 32\n",
    "\n",
    "# fix the seed\n",
    "seed = 0\n",
    "\n",
    "# run optimization below, with step sizes set to (L = Lipschitz constant):\n",
    "# * GD: 2/L\n",
    "# * Newton: .5\n",
    "# * Minibatch & SGD: starting step size is 2/L, ending step size is 1e-2/L\n",
    "\n",
    "lr = LogisticRegression(X_train, Y_train, X_val, Y_val, beta = 1e-1)\n",
    "\n",
    "init_prng(seed)"
   ]
  }
 ],
 "metadata": {
  "kernelspec": {
   "display_name": "Python 3 (ipykernel)",
   "language": "python",
   "name": "python3"
  },
  "language_info": {
   "codemirror_mode": {
    "name": "ipython",
    "version": 3
   },
   "file_extension": ".py",
   "mimetype": "text/x-python",
   "name": "python",
   "nbconvert_exporter": "python",
   "pygments_lexer": "ipython3",
   "version": "3.12.2"
  }
 },
 "nbformat": 4,
 "nbformat_minor": 5
}
